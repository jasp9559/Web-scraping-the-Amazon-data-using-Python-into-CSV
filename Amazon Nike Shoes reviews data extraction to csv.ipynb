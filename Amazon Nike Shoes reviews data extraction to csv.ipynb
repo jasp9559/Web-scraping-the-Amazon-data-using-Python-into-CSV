{
 "cells": [
  {
   "cell_type": "markdown",
   "id": "47ddb386",
   "metadata": {},
   "source": [
    "Amazon web scraper"
   ]
  },
  {
   "cell_type": "code",
   "execution_count": 1,
   "id": "70200ac2",
   "metadata": {},
   "outputs": [],
   "source": [
    "import csv\n",
    "from bs4 import BeautifulSoup"
   ]
  },
  {
   "cell_type": "code",
   "execution_count": 2,
   "id": "89236dec",
   "metadata": {},
   "outputs": [],
   "source": [
    "# firefox and Chrome\n",
    "from selenium import webdriver"
   ]
  },
  {
   "cell_type": "markdown",
   "id": "b2f63182",
   "metadata": {},
   "source": [
    " Startup the webdriver"
   ]
  },
  {
   "cell_type": "code",
   "execution_count": 3,
   "id": "1f764eda",
   "metadata": {},
   "outputs": [
    {
     "name": "stdout",
     "output_type": "stream",
     "text": [
      "Requirement already satisfied: webdriver-manager in c:\\users\\bikem\\anaconda3\\envs\\selenium_3.8\\lib\\site-packages (3.5.2)\n",
      "Requirement already satisfied: requests in c:\\users\\bikem\\anaconda3\\envs\\selenium_3.8\\lib\\site-packages (from webdriver-manager) (2.27.1)\n",
      "Requirement already satisfied: configparser in c:\\users\\bikem\\anaconda3\\envs\\selenium_3.8\\lib\\site-packages (from webdriver-manager) (5.2.0)\n",
      "Requirement already satisfied: crayons in c:\\users\\bikem\\anaconda3\\envs\\selenium_3.8\\lib\\site-packages (from webdriver-manager) (0.4.0)Note: you may need to restart the kernel to use updated packages.\n",
      "\n",
      "Requirement already satisfied: colorama in c:\\users\\bikem\\anaconda3\\envs\\selenium_3.8\\lib\\site-packages (from crayons->webdriver-manager) (0.4.4)\n",
      "Requirement already satisfied: certifi>=2017.4.17 in c:\\users\\bikem\\anaconda3\\envs\\selenium_3.8\\lib\\site-packages (from requests->webdriver-manager) (2021.10.8)\n",
      "Requirement already satisfied: urllib3<1.27,>=1.21.1 in c:\\users\\bikem\\anaconda3\\envs\\selenium_3.8\\lib\\site-packages (from requests->webdriver-manager) (1.26.7)\n",
      "Requirement already satisfied: charset-normalizer~=2.0.0 in c:\\users\\bikem\\anaconda3\\envs\\selenium_3.8\\lib\\site-packages (from requests->webdriver-manager) (2.0.4)\n",
      "Requirement already satisfied: idna<4,>=2.5 in c:\\users\\bikem\\anaconda3\\envs\\selenium_3.8\\lib\\site-packages (from requests->webdriver-manager) (3.3)\n"
     ]
    }
   ],
   "source": [
    "pip install webdriver-manager"
   ]
  },
  {
   "cell_type": "code",
   "execution_count": 4,
   "id": "9b87539b",
   "metadata": {},
   "outputs": [
    {
     "name": "stderr",
     "output_type": "stream",
     "text": [
      "\n",
      "\n",
      "====== WebDriver manager ======\n",
      "Current google-chrome version is 97.0.4692\n",
      "Get LATEST chromedriver version for 97.0.4692 google-chrome\n",
      "Driver [C:\\Users\\bikem\\.wdm\\drivers\\chromedriver\\win32\\97.0.4692.71\\chromedriver.exe] found in cache\n",
      "C:\\Users\\bikem\\AppData\\Local\\Temp/ipykernel_16024/3985819463.py:4: DeprecationWarning: executable_path has been deprecated, please pass in a Service object\n",
      "  driver = webdriver.Chrome(ChromeDriverManager().install())\n"
     ]
    }
   ],
   "source": [
    "## we activate the webdriver for Chrome as we are using Google Chrome\n",
    "from webdriver_manager.chrome import ChromeDriverManager\n",
    "\n",
    "driver = webdriver.Chrome(ChromeDriverManager().install())"
   ]
  },
  {
   "cell_type": "code",
   "execution_count": 5,
   "id": "8a52bb6a",
   "metadata": {},
   "outputs": [],
   "source": [
    "# Using webdriver we'll now open the Amazon website in chrome\n",
    "url = 'https://www.amazon.in'\n",
    "\n",
    "# We'll use the get method of driver and pass in the URL\n",
    "driver.get(url)"
   ]
  },
  {
   "cell_type": "code",
   "execution_count": 8,
   "id": "68776dd5",
   "metadata": {},
   "outputs": [],
   "source": [
    "def get_url(search_term):\n",
    "    '''\n",
    "    This function fetches the URL of the item that you want to search\n",
    "    '''\n",
    "    template = 'https://www.amazon.in/s?k={}&crid=UOAX8JTJZ8XJ&ref=nb_sb_noss_1'\n",
    "    # We'are replacing every space with '+' to adhere with the pattern \n",
    "    search_term = search_term.replace(\" \",\"+\")\n",
    "    return template.format(search_term)"
   ]
  },
  {
   "cell_type": "code",
   "execution_count": 9,
   "id": "8693b05b",
   "metadata": {},
   "outputs": [
    {
     "name": "stdout",
     "output_type": "stream",
     "text": [
      "https://www.amazon.in/s?k=nike+shoes&crid=UOAX8JTJZ8XJ&ref=nb_sb_noss_1\n"
     ]
    }
   ],
   "source": [
    "# Checking whether the function is working properly or not\n",
    "url = get_url('nike shoes')\n",
    "print(url)"
   ]
  },
  {
   "cell_type": "code",
   "execution_count": 10,
   "id": "985f341e",
   "metadata": {},
   "outputs": [],
   "source": [
    "driver.get(url)"
   ]
  },
  {
   "cell_type": "markdown",
   "id": "7437f20c",
   "metadata": {
    "scrolled": true
   },
   "source": [
    "**Extract the collection**"
   ]
  },
  {
   "cell_type": "code",
   "execution_count": 11,
   "id": "769fbb56",
   "metadata": {
    "scrolled": true
   },
   "outputs": [],
   "source": [
    "#taking the page source and trying to extract from html\n",
    "soup = BeautifulSoup(driver.page_source, 'html.parser')"
   ]
  },
  {
   "cell_type": "code",
   "execution_count": 12,
   "id": "62fa83d7",
   "metadata": {
    "scrolled": true
   },
   "outputs": [],
   "source": [
    "# assigning the specific identity of the component we need to extract from the website\n",
    "# in this case we need to extract the whole component that we search in the site\n",
    "# say the mobile phone in this case and the whole component containing the name, price, etc needs to be assigned\n",
    "results = soup.find_all('div', {'data-component-type': 's-search-result'})"
   ]
  },
  {
   "cell_type": "code",
   "execution_count": 13,
   "id": "6613f544",
   "metadata": {},
   "outputs": [
    {
     "data": {
      "text/plain": [
       "60"
      ]
     },
     "execution_count": 13,
     "metadata": {},
     "output_type": "execute_result"
    }
   ],
   "source": [
    "len(results)"
   ]
  },
  {
   "cell_type": "code",
   "execution_count": 14,
   "id": "75dce4fa",
   "metadata": {},
   "outputs": [],
   "source": [
    "# prototype the results\n",
    "item = results[0]"
   ]
  },
  {
   "cell_type": "code",
   "execution_count": 16,
   "id": "fb20535c",
   "metadata": {
    "scrolled": true
   },
   "outputs": [
    {
     "data": {
      "text/plain": [
       "'Amazon\\'s Choicefor \"nike shoes\"  +7 colors/patternsNikeMen\\'s Flex Experience Rn 10 Sport Performance  4.1 out of 5 stars 155  ₹3,240₹3,240 ₹4,995₹4,995  (35% off) FREE Delivery by Amazon'"
      ]
     },
     "execution_count": 16,
     "metadata": {},
     "output_type": "execute_result"
    }
   ],
   "source": [
    "item.find('div', 'a-section a-spacing-medium a-text-center').text"
   ]
  },
  {
   "cell_type": "code",
   "execution_count": 17,
   "id": "ca25fdc0",
   "metadata": {},
   "outputs": [],
   "source": [
    "''' while we try and extract the first most obvious thing to select would be the name of the product\n",
    "    in order to select that we see that the name component was under the h2 tag and under a, hence \n",
    "    we extract that and assign to atag'''\n",
    "atag = item.h2.a"
   ]
  },
  {
   "cell_type": "code",
   "execution_count": 18,
   "id": "af915f1e",
   "metadata": {},
   "outputs": [
    {
     "data": {
      "text/plain": [
       "\"Men's Flex Experience Rn 10 Sport Performance\""
      ]
     },
     "execution_count": 18,
     "metadata": {},
     "output_type": "execute_result"
    }
   ],
   "source": [
    "atag.text.strip()"
   ]
  },
  {
   "cell_type": "code",
   "execution_count": 19,
   "id": "73fd177b",
   "metadata": {},
   "outputs": [],
   "source": [
    "# we select that text from the atag and strip to select only the name text component\n",
    "description = atag.text.strip()"
   ]
  },
  {
   "cell_type": "code",
   "execution_count": 20,
   "id": "5de7cdc4",
   "metadata": {},
   "outputs": [
    {
     "data": {
      "text/plain": [
       "'/Nike-Experience-Crimson-Lt-Running-CI9960-008/dp/B096CJXNJ6/ref=sr_1_1?crid=UOAX8JTJZ8XJ&keywords=nike+shoes&qid=1642171385&sr=8-1'"
      ]
     },
     "execution_count": 20,
     "metadata": {},
     "output_type": "execute_result"
    }
   ],
   "source": [
    "# we need the exact url point of this component to be extracted properly\n",
    "atag.get('href')"
   ]
  },
  {
   "cell_type": "code",
   "execution_count": 21,
   "id": "06fcfed3",
   "metadata": {},
   "outputs": [],
   "source": [
    "# additionally we need this to be prefixed with the https amazon tag\n",
    "url = 'https://www.amazon.in' + atag.get('href')"
   ]
  },
  {
   "cell_type": "code",
   "execution_count": 22,
   "id": "581e6507",
   "metadata": {},
   "outputs": [
    {
     "data": {
      "text/plain": [
       "'3,240'"
      ]
     },
     "execution_count": 22,
     "metadata": {},
     "output_type": "execute_result"
    }
   ],
   "source": [
    "# now we need to extract the price of the product\n",
    "item.find('span', 'a-price-whole').text"
   ]
  },
  {
   "cell_type": "code",
   "execution_count": 23,
   "id": "8e91261b",
   "metadata": {},
   "outputs": [],
   "source": [
    "# now we need to extract the price of the product\n",
    "price = item.find('span', 'a-price-whole').text"
   ]
  },
  {
   "cell_type": "code",
   "execution_count": 24,
   "id": "fc216ea4",
   "metadata": {},
   "outputs": [
    {
     "data": {
      "text/plain": [
       "'4.1 out of 5 stars'"
      ]
     },
     "execution_count": 24,
     "metadata": {},
     "output_type": "execute_result"
    }
   ],
   "source": [
    "item.i.text"
   ]
  },
  {
   "cell_type": "code",
   "execution_count": 25,
   "id": "7e99090d",
   "metadata": {},
   "outputs": [],
   "source": [
    "rating = item.i.text"
   ]
  },
  {
   "cell_type": "code",
   "execution_count": 26,
   "id": "1cf803bc",
   "metadata": {},
   "outputs": [
    {
     "data": {
      "text/plain": [
       "'155'"
      ]
     },
     "execution_count": 26,
     "metadata": {},
     "output_type": "execute_result"
    }
   ],
   "source": [
    "# to extract the number of reviews given to the product\n",
    "item.find('span', 'a-size-base').text"
   ]
  },
  {
   "cell_type": "code",
   "execution_count": 27,
   "id": "4822fdf7",
   "metadata": {},
   "outputs": [],
   "source": [
    "rating_count = item.find('span', 'a-size-base').text"
   ]
  },
  {
   "cell_type": "markdown",
   "id": "fa52b180",
   "metadata": {},
   "source": [
    "## Generalize the pattern now"
   ]
  },
  {
   "cell_type": "code",
   "execution_count": 28,
   "id": "4c41f26a",
   "metadata": {},
   "outputs": [],
   "source": [
    "def extract_records(item):\n",
    "    '''Extract and return data from a single record'''\n",
    "    #description and url\n",
    "    atag = item.h2.a\n",
    "    description = atag.text.strip()\n",
    "    url = \"https://www.amazon.in\" + atag.get(\"href\")\n",
    "    \n",
    "    # price\n",
    "    price = item.find('span', 'a-price-whole').text\n",
    "    \n",
    "    # rank and rating\n",
    "    rating = item.i.text\n",
    "    \n",
    "    item.find('span', 'a-size-base').text\n",
    "    rating_count = item.find('span', 'a-size-base').text\n",
    "    \n",
    "    result = (description, price, rating, rating_count, url)\n",
    "    \n",
    "    return result"
   ]
  },
  {
   "cell_type": "code",
   "execution_count": 29,
   "id": "bc644fdc",
   "metadata": {},
   "outputs": [
    {
     "ename": "AttributeError",
     "evalue": "'NoneType' object has no attribute 'text'",
     "output_type": "error",
     "traceback": [
      "\u001b[1;31m---------------------------------------------------------------------------\u001b[0m",
      "\u001b[1;31mAttributeError\u001b[0m                            Traceback (most recent call last)",
      "\u001b[1;32m~\\AppData\\Local\\Temp/ipykernel_16024/3272445264.py\u001b[0m in \u001b[0;36m<module>\u001b[1;34m\u001b[0m\n\u001b[0;32m      4\u001b[0m \u001b[1;33m\u001b[0m\u001b[0m\n\u001b[0;32m      5\u001b[0m \u001b[1;32mfor\u001b[0m \u001b[0mitem\u001b[0m \u001b[1;32min\u001b[0m \u001b[0mresults\u001b[0m\u001b[1;33m:\u001b[0m\u001b[1;33m\u001b[0m\u001b[1;33m\u001b[0m\u001b[0m\n\u001b[1;32m----> 6\u001b[1;33m     \u001b[0mrecords\u001b[0m\u001b[1;33m.\u001b[0m\u001b[0mappend\u001b[0m\u001b[1;33m(\u001b[0m\u001b[0mextract_records\u001b[0m\u001b[1;33m(\u001b[0m\u001b[0mitem\u001b[0m\u001b[1;33m)\u001b[0m\u001b[1;33m)\u001b[0m\u001b[1;33m\u001b[0m\u001b[1;33m\u001b[0m\u001b[0m\n\u001b[0m",
      "\u001b[1;32m~\\AppData\\Local\\Temp/ipykernel_16024/331625065.py\u001b[0m in \u001b[0;36mextract_records\u001b[1;34m(item)\u001b[0m\n\u001b[0;32m      7\u001b[0m \u001b[1;33m\u001b[0m\u001b[0m\n\u001b[0;32m      8\u001b[0m     \u001b[1;31m# price\u001b[0m\u001b[1;33m\u001b[0m\u001b[1;33m\u001b[0m\u001b[1;33m\u001b[0m\u001b[0m\n\u001b[1;32m----> 9\u001b[1;33m     \u001b[0mprice\u001b[0m \u001b[1;33m=\u001b[0m \u001b[0mitem\u001b[0m\u001b[1;33m.\u001b[0m\u001b[0mfind\u001b[0m\u001b[1;33m(\u001b[0m\u001b[1;34m'span'\u001b[0m\u001b[1;33m,\u001b[0m \u001b[1;34m'a-price-whole'\u001b[0m\u001b[1;33m)\u001b[0m\u001b[1;33m.\u001b[0m\u001b[0mtext\u001b[0m\u001b[1;33m\u001b[0m\u001b[1;33m\u001b[0m\u001b[0m\n\u001b[0m\u001b[0;32m     10\u001b[0m \u001b[1;33m\u001b[0m\u001b[0m\n\u001b[0;32m     11\u001b[0m     \u001b[1;31m# rank and rating\u001b[0m\u001b[1;33m\u001b[0m\u001b[1;33m\u001b[0m\u001b[1;33m\u001b[0m\u001b[0m\n",
      "\u001b[1;31mAttributeError\u001b[0m: 'NoneType' object has no attribute 'text'"
     ]
    }
   ],
   "source": [
    "# now we try to apply the above to the url and try to extract\n",
    "records = []\n",
    "results = soup.find_all('div', {'data-component-type': 's-search-result'})\n",
    "\n",
    "for item in results:\n",
    "    records.append(extract_records(item))"
   ]
  },
  {
   "cell_type": "markdown",
   "id": "99cf8b46",
   "metadata": {},
   "source": [
    "**We encounter the attribute error, this is basically because there are numerous results in the website page that need not match all the description as given for each of the products. Not all products might be having the same descriptions. Hence the attribute error occuring. We need to give exception for this error in the code**"
   ]
  },
  {
   "cell_type": "markdown",
   "id": "2ad8de75",
   "metadata": {},
   "source": [
    "## Error Handling"
   ]
  },
  {
   "cell_type": "code",
   "execution_count": 34,
   "id": "781f73fe",
   "metadata": {},
   "outputs": [],
   "source": [
    "def extract_records(item):\n",
    "    '''Extract and return data from a single record'''\n",
    "    #description and url\n",
    "    atag = item.h2.a\n",
    "    description = atag.text.strip()\n",
    "    url = \"https://www.amazon.in\" + atag.get(\"href\")\n",
    "    \n",
    "    '''Basically we put the exception for price here which most definitely \n",
    "        should not be there return'''\n",
    "    try:\n",
    "        # price\n",
    "        price = item.find('span', 'a-price-whole').text\n",
    "    except AttributeError:\n",
    "        price = ''\n",
    "        \n",
    "    \n",
    "    ''' For the ratings although there might be missign details and \n",
    "        we rather add the exception properly'''\n",
    "    try:\n",
    "        # rank and rating\n",
    "        rating = item.i.text\n",
    "        \n",
    "        item.find('span', 'a-size-base').text\n",
    "        rating_count = item.find('span', 'a-size-base').text\n",
    "    except AttributeError:\n",
    "        rating = ''\n",
    "        rating_count = ''\n",
    "    \n",
    "    result = (description, price, rating, rating_count, url)\n",
    "    \n",
    "    return result"
   ]
  },
  {
   "cell_type": "code",
   "execution_count": 35,
   "id": "9638e75d",
   "metadata": {},
   "outputs": [],
   "source": [
    "# additionally we need to check whether the results give any empty records\n",
    "records = []\n",
    "results = soup.find_all('div', {'data-component-type': 's-search-result'})\n",
    "\n",
    "for item in results:\n",
    "   records.append(extract_records(item))"
   ]
  },
  {
   "cell_type": "code",
   "execution_count": 36,
   "id": "2baab01d",
   "metadata": {},
   "outputs": [
    {
     "data": {
      "text/plain": [
       "(\"Men's Flex Experience Rn 10 Sport Performance\",\n",
       " '3,240',\n",
       " '4.1 out of 5 stars',\n",
       " '155',\n",
       " 'https://www.amazon.in/Nike-Experience-Crimson-Lt-Running-CI9960-008/dp/B096CJXNJ6/ref=sr_1_1?crid=UOAX8JTJZ8XJ&keywords=nike+shoes&qid=1642171385&sr=8-1')"
      ]
     },
     "execution_count": 36,
     "metadata": {},
     "output_type": "execute_result"
    }
   ],
   "source": [
    "records[0]"
   ]
  },
  {
   "cell_type": "code",
   "execution_count": 37,
   "id": "e66e3de1",
   "metadata": {},
   "outputs": [
    {
     "name": "stdout",
     "output_type": "stream",
     "text": [
      "3,240\n",
      "\n",
      "3,763\n",
      "5,596\n",
      "1,560\n",
      "4,103\n",
      "5,598\n",
      "1,729\n",
      "2,580\n",
      "2,412\n",
      "5,072\n",
      "3,652\n",
      "3,614\n",
      "5,493\n",
      "6,293\n",
      "4,224\n",
      "1,399\n",
      "1,599\n",
      "1,599\n",
      "1,399\n",
      "3,101\n",
      "\n",
      "2,506\n",
      "3,294\n",
      "4,273\n",
      "2,464\n",
      "2,654\n",
      "3,694\n",
      "2,397\n",
      "3,287\n",
      "5,995\n",
      "2,747\n",
      "5,852\n",
      "3,596\n",
      "1,896\n",
      "2,700\n",
      "2,346\n",
      "2,995\n",
      "6,942\n",
      "2,694\n",
      "2,018\n",
      "3,795\n",
      "3,477\n",
      "2,036\n",
      "3,357\n",
      "2,408\n",
      "8,588\n",
      "3,326\n",
      "5,396\n",
      "5,260\n",
      "8,109\n",
      "3,179\n",
      "13,019\n",
      "6,999\n",
      "449\n",
      "1,399\n",
      "1,399\n",
      "1,499\n",
      "9,899\n",
      "1,599\n"
     ]
    }
   ],
   "source": [
    "for row in records:\n",
    "    print(row[1])"
   ]
  },
  {
   "cell_type": "code",
   "execution_count": 38,
   "id": "f1b10cb0",
   "metadata": {},
   "outputs": [],
   "source": [
    "# next step is to get the next page in order to get most reviews\n",
    "# we need to take the component for the next button\n",
    "def get_url(search_term):\n",
    "    '''\n",
    "    This function fetches the URL of the item that you want to search\n",
    "    '''\n",
    "    template = 'https://www.amazon.in/s?k={}&crid=UOAX8JTJZ8XJ&ref=nb_sb_noss_1'\n",
    "    # We'are replacing every space with '+' to adhere with the pattern \n",
    "    search_term = search_term.replace(\" \",\"+\")\n",
    "    \n",
    "    # add term query to url\n",
    "    url = template.format(search_term)\n",
    "    \n",
    "    # add page query placeholder\n",
    "    url += '&page{}'\n",
    "    \n",
    "    return url"
   ]
  },
  {
   "cell_type": "code",
   "execution_count": 39,
   "id": "2b9499bc",
   "metadata": {},
   "outputs": [],
   "source": [
    "## Putting all the pieces of code together\n",
    "import csv\n",
    "from bs4 import BeautifulSoup\n",
    "from selenium import webdriver\n",
    "from webdriver_manager.chrome import ChromeDriverManager\n",
    "\n",
    "def get_url(search_term):\n",
    "    '''\n",
    "    This function fetches the URL of the item that you want to search\n",
    "    '''\n",
    "    template = 'https://www.amazon.in/s?k={}&crid=UOAX8JTJZ8XJ&ref=nb_sb_noss_1'\n",
    "    # We'are replacing every space with '+' to adhere with the pattern \n",
    "    search_term = search_term.replace(\" \",\"+\")\n",
    "    \n",
    "    # add term query to url\n",
    "    url = template.format(search_term)\n",
    "    \n",
    "    # add page query placeholder\n",
    "    url += '&page{}'\n",
    "    \n",
    "    return url\n",
    "\n",
    "def extract_records(item):\n",
    "    '''Extract and return data from a single record'''\n",
    "    #description and url\n",
    "    atag = item.h2.a\n",
    "    description = atag.text.strip()\n",
    "    url = \"https://www.amazon.in\" + atag.get(\"href\")\n",
    "    \n",
    "    '''Basically we put the exception for price here which most definitely \n",
    "        should not be there return'''\n",
    "    try:\n",
    "        # price\n",
    "        price = item.find('span', 'a-price-whole').text\n",
    "    except AttributeError:\n",
    "        price = ''\n",
    "    \n",
    "    ''' For the ratings although there might be missign details and \n",
    "        we rather add the exception properly'''\n",
    "    try:\n",
    "        # rank and rating\n",
    "        rating = item.i.text\n",
    "        \n",
    "        item.find('span', 'a-size-base').text\n",
    "        rating_count = item.find('span', 'a-size-base').text\n",
    "    except AttributeError:\n",
    "        rating = ''\n",
    "        rating_count = ''\n",
    "    \n",
    "    result = (description, price, rating, rating_count, url)\n",
    "    \n",
    "    return result\n",
    "\n",
    "def main(search_term):\n",
    "    \"\"\"Run the main program routine\"\"\"\n",
    "    driver = webdriver.Chrome(ChromeDriverManager().install())\n",
    "\n",
    "    record = []\n",
    "    url = get_url(search_term)\n",
    "    \n",
    "    for page in range(1, 6):\n",
    "        driver.get(url.format(page))\n",
    "        soup = BeautifulSoup(driver.page_source, 'html.parser')\n",
    "        results = soup.find_all('div', {'data-component-type': 's-search-result'})\n",
    "        \n",
    "        for item in results:\n",
    "            record = extract_records(item)\n",
    "            if record:\n",
    "                records.append(record)\n",
    "    \n",
    "    driver.close()\n",
    "    \n",
    "    #save the data to csv file\n",
    "    with open('results.csv', 'w', newline='', encoding = 'utf-8') as f:\n",
    "        writer = csv.writer(f)\n",
    "        writer.writerow({'Description', 'Price_in_INR', 'Reviews', 'Review_count', 'Url'})\n",
    "        writer.writerows(records)"
   ]
  },
  {
   "cell_type": "code",
   "execution_count": 40,
   "id": "1a2d18f9",
   "metadata": {},
   "outputs": [
    {
     "name": "stderr",
     "output_type": "stream",
     "text": [
      "\n",
      "\n",
      "====== WebDriver manager ======\n",
      "Current google-chrome version is 97.0.4692\n",
      "Get LATEST chromedriver version for 97.0.4692 google-chrome\n",
      "Driver [C:\\Users\\bikem\\.wdm\\drivers\\chromedriver\\win32\\97.0.4692.71\\chromedriver.exe] found in cache\n",
      "C:\\Users\\bikem\\AppData\\Local\\Temp/ipykernel_16024/2398463386.py:56: DeprecationWarning: executable_path has been deprecated, please pass in a Service object\n",
      "  driver = webdriver.Chrome(ChromeDriverManager().install())\n"
     ]
    }
   ],
   "source": [
    "main('nike shoes')"
   ]
  }
 ],
 "metadata": {
  "kernelspec": {
   "display_name": "Python 3 (ipykernel)",
   "language": "python",
   "name": "python3"
  },
  "language_info": {
   "codemirror_mode": {
    "name": "ipython",
    "version": 3
   },
   "file_extension": ".py",
   "mimetype": "text/x-python",
   "name": "python",
   "nbconvert_exporter": "python",
   "pygments_lexer": "ipython3",
   "version": "3.8.12"
  }
 },
 "nbformat": 4,
 "nbformat_minor": 5
}
